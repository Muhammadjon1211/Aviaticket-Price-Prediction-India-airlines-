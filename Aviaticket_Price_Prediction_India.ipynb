{
  "nbformat": 4,
  "nbformat_minor": 0,
  "metadata": {
    "colab": {
      "provenance": []
    },
    "kernelspec": {
      "name": "python3",
      "display_name": "Python 3"
    },
    "language_info": {
      "name": "python"
    }
  },
  "cells": [
    {
      "cell_type": "code",
      "execution_count": 3,
      "metadata": {
        "id": "qyy6vCOoC-LO"
      },
      "outputs": [],
      "source": [
        "import pandas as pd\n",
        "import numpy as np\n",
        "\n",
        "from sklearn.model_selection import train_test_split\n",
        "from sklearn.preprocessing import LabelEncoder\n",
        "from sklearn.ensemble import RandomForestRegressor\n",
        "from sklearn.metrics import mean_absolute_error"
      ]
    },
    {
      "cell_type": "code",
      "source": [
        "train_df = pd.read_csv('/content/train_data.csv')\n",
        "test_df = pd.read_csv('/content/test_data.csv')\n",
        "train_df.head(), test_df.head()"
      ],
      "metadata": {
        "colab": {
          "base_uri": "https://localhost:8080/"
        },
        "id": "-uscMg6hDFHM",
        "outputId": "53eecad4-7db6-4d7e-fa77-84672d24cd15"
      },
      "execution_count": 2,
      "outputs": [
        {
          "output_type": "execute_result",
          "data": {
            "text/plain": [
              "(   id   airline   flight source_city departure_time stops arrival_time  \\\n",
              " 0   1   Vistara   UK-810   Bangalore  Early_Morning   one        Night   \n",
              " 1   2  SpiceJet  SG-5094   Hyderabad        Evening  zero        Night   \n",
              " 2   3   Vistara   UK-846   Bangalore        Morning   one      Evening   \n",
              " 3   4   Vistara   UK-706     Kolkata        Morning   one      Evening   \n",
              " 4   5    Indigo  6E-5394     Chennai  Early_Morning  zero      Morning   \n",
              " \n",
              "   destination_city     class  duration  days_left  price  \n",
              " 0           Mumbai   Economy     14.25         21   7212  \n",
              " 1          Kolkata   Economy      1.75          7   5292  \n",
              " 2            Delhi  Business      9.58          5  60553  \n",
              " 3        Hyderabad   Economy      6.75         28   5760  \n",
              " 4           Mumbai   Economy      2.00          4  10712  ,\n",
              "    id    airline  flight source_city departure_time stops   arrival_time  \\\n",
              " 0   1  Air_India  AI-765     Kolkata        Evening   one          Night   \n",
              " 1   2    Vistara  UK-747       Delhi  Early_Morning   one          Night   \n",
              " 2   3  Air_India  AI-570      Mumbai  Early_Morning  zero  Early_Morning   \n",
              " 3   4    AirAsia  I5-974   Hyderabad          Night   one     Late_Night   \n",
              " 4   5  Air_India  AI-770     Kolkata          Night   one      Afternoon   \n",
              " \n",
              "   destination_city     class  duration  days_left  \n",
              " 0            Delhi  Business     28.25          2  \n",
              " 1           Mumbai  Business     13.83         34  \n",
              " 2          Chennai  Business      2.00         30  \n",
              " 3            Delhi   Economy      5.17         26  \n",
              " 4           Mumbai   Economy     16.33         35  )"
            ]
          },
          "metadata": {},
          "execution_count": 2
        }
      ]
    },
    {
      "cell_type": "code",
      "source": [
        "label_encoders = {}\n",
        "categorical_columns = [\"airline\", \"source_city\", \"departure_time\", \"stops\", \"arrival_time\",\n",
        "                        \"destination_city\", \"class\"]\n",
        "\n",
        "for col in categorical_columns:\n",
        "    le = LabelEncoder()\n",
        "    train_df[col] = le.fit_transform(train_df[col])\n",
        "    test_df[col] = le.transform(test_df[col])\n",
        "    label_encoders[col] = le\n",
        "\n",
        "# Model uchun xususiyat va nishonlarni ajratish\n",
        "X = train_df.drop(columns=[\"id\", \"flight\", \"price\"])\n",
        "y = train_df[\"price\"]\n",
        "\n",
        "# Ma'lumotlarni ta'lim va test to'plamlariga ajratish\n",
        "X_train, X_valid, y_train, y_valid = train_test_split(X, y, test_size=0.2, random_state=42)\n",
        "\n",
        "# Modelni yaratish va o'qitish\n",
        "model = RandomForestRegressor(n_estimators=100, random_state=42)\n",
        "model.fit(X_train, y_train)\n",
        "\n",
        "# Modelni tekshirish\n",
        "y_pred = model.predict(X_valid)\n",
        "mae = mean_absolute_error(y_valid, y_pred)\n",
        "\n",
        "# Test to'plami uchun bashorat qilish\n",
        "X_test = test_df.drop(columns=[\"id\", \"flight\"])\n",
        "test_predictions = model.predict(X_test)\n",
        "\n",
        "# MAE natijasini chiqarish\n",
        "mae"
      ],
      "metadata": {
        "colab": {
          "base_uri": "https://localhost:8080/"
        },
        "id": "EGZ52u8FDTaI",
        "outputId": "8daa85d0-2273-48dd-a0a9-50056d61a494"
      },
      "execution_count": 6,
      "outputs": [
        {
          "output_type": "execute_result",
          "data": {
            "text/plain": [
              "2066.365444690476"
            ]
          },
          "metadata": {},
          "execution_count": 6
        }
      ]
    },
    {
      "cell_type": "code",
      "source": [],
      "metadata": {
        "id": "Sm9op6PeDmvJ"
      },
      "execution_count": 8,
      "outputs": []
    },
    {
      "cell_type": "code",
      "source": [],
      "metadata": {
        "id": "FQXd8qaRDyPI"
      },
      "execution_count": null,
      "outputs": []
    }
  ]
}