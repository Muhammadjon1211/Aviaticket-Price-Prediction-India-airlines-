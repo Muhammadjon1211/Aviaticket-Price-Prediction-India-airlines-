{
  "nbformat": 4,
  "nbformat_minor": 0,
  "metadata": {
    "colab": {
      "provenance": [],
      "gpuType": "T4"
    },
    "kernelspec": {
      "name": "python3",
      "display_name": "Python 3"
    },
    "language_info": {
      "name": "python"
    },
    "accelerator": "GPU"
  },
  "cells": [
    {
      "cell_type": "code",
      "execution_count": 1,
      "metadata": {
        "id": "SwDqScWKIlqa"
      },
      "outputs": [],
      "source": [
        "import pandas as pd\n",
        "import numpy as np\n",
        "\n",
        "from sklearn.model_selection import train_test_split\n",
        "from sklearn.preprocessing import LabelEncoder\n",
        "from sklearn.ensemble import RandomForestRegressor\n",
        "from sklearn.metrics import mean_absolute_error, mean_squared_error, r2_score\n",
        "from sklearn.model_selection import GridSearchCV"
      ]
    },
    {
      "cell_type": "code",
      "source": [
        "train_df = pd.read_csv('/content/train_data.csv')\n",
        "test_df = pd.read_csv('/content/test_data.csv')\n",
        "\n",
        "train_df.head(), test_df.head()"
      ],
      "metadata": {
        "colab": {
          "base_uri": "https://localhost:8080/"
        },
        "id": "C4jN3pEIJARW",
        "outputId": "1119b258-6778-46b4-8ad8-59f1d04cea39"
      },
      "execution_count": 2,
      "outputs": [
        {
          "output_type": "execute_result",
          "data": {
            "text/plain": [
              "(   id   airline   flight source_city departure_time stops arrival_time  \\\n",
              " 0   1   Vistara   UK-810   Bangalore  Early_Morning   one        Night   \n",
              " 1   2  SpiceJet  SG-5094   Hyderabad        Evening  zero        Night   \n",
              " 2   3   Vistara   UK-846   Bangalore        Morning   one      Evening   \n",
              " 3   4   Vistara   UK-706     Kolkata        Morning   one      Evening   \n",
              " 4   5    Indigo  6E-5394     Chennai  Early_Morning  zero      Morning   \n",
              " \n",
              "   destination_city     class  duration  days_left  price  \n",
              " 0           Mumbai   Economy     14.25         21   7212  \n",
              " 1          Kolkata   Economy      1.75          7   5292  \n",
              " 2            Delhi  Business      9.58          5  60553  \n",
              " 3        Hyderabad   Economy      6.75         28   5760  \n",
              " 4           Mumbai   Economy      2.00          4  10712  ,\n",
              "    id    airline  flight source_city departure_time stops   arrival_time  \\\n",
              " 0   1  Air_India  AI-765     Kolkata        Evening   one          Night   \n",
              " 1   2    Vistara  UK-747       Delhi  Early_Morning   one          Night   \n",
              " 2   3  Air_India  AI-570      Mumbai  Early_Morning  zero  Early_Morning   \n",
              " 3   4    AirAsia  I5-974   Hyderabad          Night   one     Late_Night   \n",
              " 4   5  Air_India  AI-770     Kolkata          Night   one      Afternoon   \n",
              " \n",
              "   destination_city     class  duration  days_left  \n",
              " 0            Delhi  Business     28.25          2  \n",
              " 1           Mumbai  Business     13.83         34  \n",
              " 2          Chennai  Business      2.00         30  \n",
              " 3            Delhi   Economy      5.17         26  \n",
              " 4           Mumbai   Economy     16.33         35  )"
            ]
          },
          "metadata": {},
          "execution_count": 2
        }
      ]
    },
    {
      "cell_type": "code",
      "source": [
        "# Encoding the labels\n",
        "label_encoders = {}\n",
        "categorical_attribs = [\"airline\", \"source_city\", \"departure_time\", \"stops\", \"arrival_time\",\n",
        "                        \"destination_city\", \"class\"]\n",
        "\n",
        "for col in categorical_attribs:\n",
        "  le = LabelEncoder()\n",
        "  train_df[col] = le.fit_transform(train_df[col])\n",
        "  test_df[col] = le.transform(test_df[col])\n",
        "  label_encoders[col] = le\n",
        "\n",
        "# Preparing data for splitting\n",
        "X = train_df.drop([\"id\", \"flight\", \"price\"], axis = 1)\n",
        "y = train_df['price']\n",
        "\n",
        "# Splitting data into train and validation\n",
        "X_train, X_valid, y_train, y_valid = train_test_split(X,y, test_size = 0.2, random_state = 12)\n",
        "\n",
        "# Creating and checking model regressor\n",
        "param_grid = {\n",
        "    'n_estimators': [50, 100, 200],\n",
        "    'max_depth': [10, 20, None],\n",
        "    'min_samples_split': [2, 5, 10]\n",
        "}\n",
        "\n",
        "grid_search = GridSearchCV(RandomForestRegressor(random_state=42), param_grid, cv=3, scoring='neg_mean_absolute_error')\n",
        "grid_search.fit(X_train, y_train)\n",
        "\n",
        "print(\"Best Parameters:\", grid_search.best_params_)\n",
        "\n",
        "# Testing model\n",
        "y_pred = grid_search.predict(X_valid)\n",
        "mae = mean_absolute_error(y_valid, y_pred)\n",
        "mse = mean_squared_error(y_valid, y_pred)\n",
        "rmse = mse ** 0.5\n",
        "r2 = r2_score(y_valid, y_pred)\n",
        "\n",
        "# Testing model on main test data\n",
        "X_test = test_df.drop([\"id\", \"flight\"], axis = 1)\n",
        "model_predict = grid_search.predict(X_test)\n",
        "\n",
        "# Checking Mean absolute error\n",
        "\n",
        "print(f\"MAE: {mae}, RMSE: {rmse}, R² Score: {r2}\")"
      ],
      "metadata": {
        "colab": {
          "base_uri": "https://localhost:8080/"
        },
        "id": "padMbJQEJZ39",
        "outputId": "e0e7399b-cb8a-47e8-b6d1-b35d6a4c58f6"
      },
      "execution_count": 3,
      "outputs": [
        {
          "output_type": "stream",
          "name": "stdout",
          "text": [
            "Best Parameters: {'max_depth': None, 'min_samples_split': 2, 'n_estimators': 200}\n",
            "MAE: 2046.7564895208334, RMSE: 3894.2192376290145, R² Score: 0.9699769377775228\n"
          ]
        }
      ]
    },
    {
      "cell_type": "code",
      "source": [
        "submission_file = pd.DataFrame({'id':test_df['id'], 'price':model_predict})"
      ],
      "metadata": {
        "id": "tfa_NMvCMdjF"
      },
      "execution_count": 4,
      "outputs": []
    },
    {
      "cell_type": "code",
      "source": [
        "submission_file.to_csv('my_submission_012925.csv', index = False)"
      ],
      "metadata": {
        "id": "W8q1GIb5N0kU"
      },
      "execution_count": 5,
      "outputs": []
    },
    {
      "cell_type": "code",
      "source": [],
      "metadata": {
        "id": "obzk7QnwN7bF"
      },
      "execution_count": null,
      "outputs": []
    }
  ]
}